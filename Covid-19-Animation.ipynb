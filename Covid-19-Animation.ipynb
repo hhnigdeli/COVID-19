{
 "cells": [
  {
   "cell_type": "code",
   "execution_count": 1,
   "metadata": {},
   "outputs": [],
   "source": [
    "import pandas as pd\n",
    "import numpy as np"
   ]
  },
  {
   "cell_type": "markdown",
   "metadata": {},
   "source": [
    "<h2> Getting data from Github Repository by Johns Hopkins CSSE"
   ]
  },
  {
   "cell_type": "code",
   "execution_count": 2,
   "metadata": {},
   "outputs": [],
   "source": [
    "meta = [\"recovered\", \"confirmed\",\"deaths\"]\n",
    "data = [pd.read_csv(\"https://raw.githubusercontent.com/CSSEGISandData/COVID-19/master/csse_covid_19_data/csse_covid_19_time_series/time_series_covid19_{}_global.csv\".format(i),error_bad_lines=False)  for i in meta]"
   ]
  },
  {
   "cell_type": "markdown",
   "metadata": {},
   "source": [
    "<H2> Defining countries in scope"
   ]
  },
  {
   "cell_type": "code",
   "execution_count": 3,
   "metadata": {},
   "outputs": [],
   "source": [
    "scope = [\"Turkey\",\"Korea, South\"]"
   ]
  },
  {
   "cell_type": "code",
   "execution_count": 4,
   "metadata": {},
   "outputs": [],
   "source": [
    "limit1 = len(data[2].columns)\n",
    "limit2 = len(data[1].columns)"
   ]
  },
  {
   "cell_type": "markdown",
   "metadata": {},
   "source": [
    "<H2> Merging different regions of individual countries"
   ]
  },
  {
   "cell_type": "code",
   "execution_count": 5,
   "metadata": {},
   "outputs": [],
   "source": [
    "scopeDataD = []\n",
    "\n",
    "for i in scope:\n",
    "    data_ = data[2][data[2][\"Country/Region\"] == i].iloc[: , list(range(4,limit1))].transpose().reset_index()\n",
    "    sum_row = data_.sum(axis=1)\n",
    "    data_[\"sum\"] = pd.DataFrame(sum_row)\n",
    "    data_ = data_[[\"index\",\"sum\"]]\n",
    "    data_.columns = [\"Date\",\"Quantity\"]\n",
    "    scopeDataD.append(data_)\n",
    "\n",
    "scopeDataC = []\n",
    "\n",
    "for i in scope:\n",
    "    data_ = data[1][data[1][\"Country/Region\"] == i].iloc[: , list(range(4,limit2))].transpose().reset_index()\n",
    "    sum_row = data_.sum(axis=1)\n",
    "    data_[\"sum\"] = pd.DataFrame(sum_row)\n",
    "    data_ = data_[[\"index\",\"sum\"]]\n",
    "    data_.columns = [\"Date\",\"Quantity\"]\n",
    "    scopeDataC.append(data_)"
   ]
  },
  {
   "cell_type": "code",
   "execution_count": 6,
   "metadata": {},
   "outputs": [],
   "source": [
    "import matplotlib.pyplot as plt\n",
    "plt.rcParams[\"figure.figsize\"] = (12,10)"
   ]
  },
  {
   "cell_type": "markdown",
   "metadata": {},
   "source": [
    "<h2>Visualization"
   ]
  },
  {
   "cell_type": "code",
   "execution_count": 21,
   "metadata": {
    "scrolled": false
   },
   "outputs": [],
   "source": [
    "\n",
    "for t in range(len(scopeDataC[0])+1):\n",
    "    c=0\n",
    "    for i,y in zip(scopeDataC,scopeDataD):\n",
    "\n",
    "        if c ==0:\n",
    "            plt.plot(i.index[:t],i.Quantity[:t],linewidth=4)\n",
    "            if len(i.index[:t])>35:\n",
    "                plt.annotate(\"Deaths:{} Cases:{})\".format(list(y.Quantity[:t])[-1],list(i.Quantity[:t+1])[-1]),xy=(len(i.index[:t]),list(i.Quantity[:t])[-1]),fontsize=16)\n",
    "            c +=1\n",
    "        else:    \n",
    "            plt.plot(i.index[:t],i.Quantity[:t],linewidth=4)\n",
    "            if len(i.index[:t])>0:\n",
    "                plt.annotate(\"Deaths:{} Cases:{})\".format(list(y.Quantity[:t])[-1],list(i.Quantity[:t+1])[-1]),xy=(len(i.index[:t]),list(i.Quantity[:t])[-1]),fontsize=16)\n",
    "            plt.xticks(np.arange(0, len(i)+40, step=4))\n",
    "            c +=1\n",
    "    plt.annotate(\"# days beginning from 01/22/20\",xy=(1,17000),fontsize=14)\n",
    "    plt.annotate(\"{}\".format(len(i.index[:t])),xy=(16,16200),fontsize=25,color=\"r\")\n",
    "    plt.legend( scope)\n",
    "    plt.title(\"Comparison South Korea vs Turkey\", fontsize=20)\n",
    "    plt.xlabel(\"# Days from beginning of first case in China\", fontsize=15)\n",
    "    plt.ylabel(\"Accumulated Confirmed Cases\", fontsize=15)\n",
    "    plt.xlim(0,100)\n",
    "    plt.ylim(0,20000)\n",
    "    \n",
    "    plt.tight_layout()\n",
    "    plt.savefig(\"image/foto{}.png\".format(t)) #save every scene on local directory as .png\n",
    "    plt.close()\n",
    "    #plt.grid()\n",
    "\n",
    "\n",
    "   "
   ]
  },
  {
   "cell_type": "code",
   "execution_count": null,
   "metadata": {},
   "outputs": [],
   "source": [
    "import os\n",
    "import subprocess\n",
    "os.getcwd()\n",
    "os.chdir('/Desktop/Dev/JupyterNotebooks/Covid-19/image')\n",
    "subprocess.call(['ffmpeg', '-r', '10', '-f', 'image2', '-s', '800x600', '-i', \n",
    "                 'foto%01d.png', '-vcodec', 'libx264', '-crf', '24', '-pix_fmt', 'yuv420p', 'regression.mp4'])"
   ]
  }
 ],
 "metadata": {
  "kernelspec": {
   "display_name": "Python 3",
   "language": "python",
   "name": "python3"
  },
  "language_info": {
   "codemirror_mode": {
    "name": "ipython",
    "version": 3
   },
   "file_extension": ".py",
   "mimetype": "text/x-python",
   "name": "python",
   "nbconvert_exporter": "python",
   "pygments_lexer": "ipython3",
   "version": "3.6.9"
  }
 },
 "nbformat": 4,
 "nbformat_minor": 2
}
