{
 "cells": [
  {
   "cell_type": "code",
   "execution_count": null,
   "metadata": {},
   "outputs": [],
   "source": [
    "import pandas as pd\n",
    "import numpy as np"
   ]
  },
  {
   "cell_type": "markdown",
   "metadata": {},
   "source": [
    "<h2> Getting data from Github Repository by Johns Hopkins CSSE"
   ]
  },
  {
   "cell_type": "code",
   "execution_count": null,
   "metadata": {},
   "outputs": [],
   "source": [
    "meta = [\"recovered\", \"confirmed\",\"deaths\"]\n",
    "data = [pd.read_csv(\"https://raw.githubusercontent.com/CSSEGISandData/COVID-19/master/csse_covid_19_data/csse_covid_19_time_series/time_series_covid19_{}_global.csv\".format(i),error_bad_lines=False)  for i in meta]"
   ]
  },
  {
   "cell_type": "markdown",
   "metadata": {},
   "source": [
    "<H2> Defining countries in scope"
   ]
  },
  {
   "cell_type": "code",
   "execution_count": null,
   "metadata": {},
   "outputs": [],
   "source": [
    "scope = [\"Turkey\",\"Italy\",\"China\"]"
   ]
  },
  {
   "cell_type": "code",
   "execution_count": null,
   "metadata": {},
   "outputs": [],
   "source": [
    "limit1 = len(data[2].columns)\n",
    "limit2 = len(data[1].columns)"
   ]
  },
  {
   "cell_type": "markdown",
   "metadata": {},
   "source": [
    "<H2> Merging different regions of individual countries"
   ]
  },
  {
   "cell_type": "code",
   "execution_count": null,
   "metadata": {},
   "outputs": [],
   "source": [
    "scopeDataD = []\n",
    "\n",
    "for i in scope:\n",
    "    data_ = data[2][data[2][\"Country/Region\"] == i].iloc[: , list(range(4,limit1))].transpose().reset_index()\n",
    "    sum_row = data_.sum(axis=1)\n",
    "    data_[\"sum\"] = pd.DataFrame(sum_row)\n",
    "    data_ = data_[[\"index\",\"sum\"]]\n",
    "    data_.columns = [\"Date\",\"Quantity\"]\n",
    "    scopeDataD.append(data_)\n",
    "\n",
    "scopeDataC = []\n",
    "\n",
    "for i in scope:\n",
    "    data_ = data[1][data[1][\"Country/Region\"] == i].iloc[: , list(range(4,limit2))].transpose().reset_index()\n",
    "    sum_row = data_.sum(axis=1)\n",
    "    data_[\"sum\"] = pd.DataFrame(sum_row)\n",
    "    data_ = data_[[\"index\",\"sum\"]]\n",
    "    data_.columns = [\"Date\",\"Quantity\"]\n",
    "    scopeDataC.append(data_)"
   ]
  },
  {
   "cell_type": "code",
   "execution_count": null,
   "metadata": {},
   "outputs": [],
   "source": [
    "for i in range(len(scopeDataC)):\n",
    "    scopeDataC[i][\"Deaths\"] = scopeDataD[i][\"Quantity\"]\n",
    "    scopeDataC[i][\"Rate\"] = (pd.to_numeric(scopeDataC[i][\"Deaths\"])/pd.to_numeric(scopeDataC[i][\"Quantity\"]))*100\n",
    "    scopeDataC[i]\n",
    "for i in range(len(scopeDataC)):\n",
    "    scopeDataC[i] = scopeDataC[i].fillna(0)"
   ]
  },
  {
   "cell_type": "code",
   "execution_count": null,
   "metadata": {},
   "outputs": [],
   "source": [
    "import matplotlib.pyplot as plt\n",
    "plt.rcParams[\"figure.figsize\"] = (18,10)"
   ]
  },
  {
   "cell_type": "code",
   "execution_count": null,
   "metadata": {},
   "outputs": [],
   "source": [
    "DaillyCase = []\n",
    "QuaC = scopeDataC[1].Quantity\n",
    "for i in range(len(QuaC)):\n",
    "    if (QuaC[i] == 0) or i ==0:\n",
    "        DaillyCase.append(QuaC[i])\n",
    "    else:\n",
    "        DaillyCase.append(QuaC[i]-QuaC[i-1])\n",
    "        \n",
    "        "
   ]
  },
  {
   "cell_type": "code",
   "execution_count": null,
   "metadata": {},
   "outputs": [],
   "source": [
    "DaillyDeaths = []\n",
    "QuaD = scopeDataD[1].Quantity\n",
    "for i in range(len(QuaD)):\n",
    "    if (QuaD[i] == 0) or i ==0:\n",
    "        DaillyDeaths.append(QuaD[i])\n",
    "    else:\n",
    "        DaillyDeaths.append(QuaD[i]-QuaD[i-1])"
   ]
  },
  {
   "cell_type": "markdown",
   "metadata": {},
   "source": [
    "<h2>Visualization"
   ]
  },
  {
   "cell_type": "code",
   "execution_count": null,
   "metadata": {},
   "outputs": [],
   "source": [
    "t=0\n",
    "for i in range(len(DaillyCase)):\n",
    "    fig = plt.figure()\n",
    "    \n",
    "    ax1 = plt.subplot2grid((3, 3), (0, 0), colspan=3)\n",
    "\n",
    "    plt.plot(scopeDataC[2].index[:i], scopeDataC[1].Rate[:i],linewidth=4,color=\"k\")\n",
    "    plt.annotate(\"Death Rate %{}\".format(np.around(scopeDataC[1].Rate[i]),decimals=1),xy=(10,10),size=18)\n",
    "    plt.title(\"Italy {}\".format(scopeDataC[1].Date[i]), size=20)\n",
    "    plt.ylabel(\"(Total Deaths / Total Cases)*100\",size=12)\n",
    "    plt.xlim(0,80)\n",
    "    plt.ylim(0,20)\n",
    "\n",
    "    ax2 = plt.subplot2grid((3, 3), (1, 0), colspan=3)\n",
    "\n",
    "    plt.bar(scopeDataC[1].index[:i], DaillyCase[:i], color=\"y\")\n",
    "    plt.annotate(\"Total Cases: {}\".format(scopeDataC[1].Quantity[i]),xy=(10,4000),size=18)\n",
    "    if i >= 60:\n",
    "        plt.annotate(\"Dailly Case Peak: {}\".format(scopeDataC[1].Date[59]),xy=(59,6000),\n",
    "                                 xycoords='data',\n",
    "            xytext=(40, 4000), textcoords='data',\n",
    "            size=15, va=\"center\", ha=\"center\",\n",
    "            arrowprops=dict(arrowstyle=\"simple\",\n",
    "                           connectionstyle=\"arc3,rad=-0.2\"))\n",
    "    plt.ylabel(\"# \", size=12)\n",
    "    plt.xlim(0,80)\n",
    "    plt.ylim(0,7400)\n",
    "\n",
    "    ax4 = plt.subplot2grid((3, 3), (2, 0), colspan=3)\n",
    "\n",
    "    plt.bar(scopeDataC[1].index[:i],  DaillyDeaths[:i], color=\"r\")\n",
    "    plt.annotate(\"Total Deaths: {}\".format(scopeDataD[1].Quantity[i]),xy=(10,600),size=18)\n",
    "    if i >= 66:\n",
    "        plt.annotate(\"Dailly Death Peak: {}\".format(scopeDataC[1].Date[66]),xy=(65,800),\n",
    "                                 xycoords='data',\n",
    "            xytext=(40, 600), textcoords='data',\n",
    "            size=15, va=\"center\", ha=\"center\",\n",
    "            arrowprops=dict(arrowstyle=\"simple\",\n",
    "                            connectionstyle=\"arc3,rad=-0.2\"))\n",
    "    plt.ylabel(\"# \",size=12)\n",
    "    plt.xlim(0,80)\n",
    "    plt.ylim(0,1200)\n",
    "    plt.xticks(rotation='vertical')\n",
    "\n",
    "    plt.tight_layout()\n",
    "    for i in range(3):\n",
    "        plt.savefig(\"image/foto{}.png\".format(t))\n",
    "        t = t + 1\n",
    "    \n",
    "    "
   ]
  },
  {
   "cell_type": "code",
   "execution_count": null,
   "metadata": {},
   "outputs": [],
   "source": [
    "import os\n",
    "import subprocess\n",
    "os.getcwd()\n",
    "os.chdir('/Desktop/Dev/JupyterNotebooks/Covid-19/image')\n",
    "subprocess.call(['ffmpeg', '-r', '10', '-f', 'image2', '-s', '800x600', '-i', \n",
    "                 'foto%01d.png', '-vcodec', 'libx264', '-crf', '24', '-pix_fmt', 'yuv420p', 'regression.mp4'])"
   ]
  },
  {
   "cell_type": "markdown",
   "metadata": {},
   "source": [
    "ffmpeg -framerate 4 -i foto%01d.png -c:v libx264 -profile:v high -crf 20 -pix_fmt yuv420p output.mp4"
   ]
  },
  {
   "cell_type": "code",
   "execution_count": null,
   "metadata": {},
   "outputs": [],
   "source": []
  }
 ],
 "metadata": {
  "kernelspec": {
   "display_name": "Python 3",
   "language": "python",
   "name": "python3"
  },
  "language_info": {
   "codemirror_mode": {
    "name": "ipython",
    "version": 3
   },
   "file_extension": ".py",
   "mimetype": "text/x-python",
   "name": "python",
   "nbconvert_exporter": "python",
   "pygments_lexer": "ipython3",
   "version": "3.6.9"
  }
 },
 "nbformat": 4,
 "nbformat_minor": 2
}
